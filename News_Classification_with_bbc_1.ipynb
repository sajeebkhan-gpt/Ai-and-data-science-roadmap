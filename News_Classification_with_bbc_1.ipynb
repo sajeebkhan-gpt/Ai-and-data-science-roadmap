{
  "cells": [
    {
      "cell_type": "markdown",
      "metadata": {
        "id": "view-in-github",
        "colab_type": "text"
      },
      "source": [
        "<a href=\"https://colab.research.google.com/github/sajeebkhan-gpt/Ai-and-data-science-roadmap/blob/main/News_Classification_with_bbc_1.ipynb\" target=\"_parent\"><img src=\"https://colab.research.google.com/assets/colab-badge.svg\" alt=\"Open In Colab\"/></a>"
      ]
    },
    {
      "cell_type": "code",
      "execution_count": null,
      "metadata": {
        "id": "Kdj8ZliJIntK"
      },
      "outputs": [],
      "source": [
        "\n",
        "!pip install pandas scikit-learn nltk matplotlib\n"
      ]
    },
    {
      "cell_type": "code",
      "execution_count": null,
      "metadata": {
        "id": "ZNGIzf08I66D"
      },
      "outputs": [],
      "source": [
        "import pandas as pd\n",
        "\n",
        "\n",
        "df = pd.read_csv(\"bbc-text.csv\")\n",
        "\n",
        "\n",
        "print(df.head())\n",
        "print(df['category'].value_counts())\n"
      ]
    },
    {
      "cell_type": "code",
      "execution_count": null,
      "metadata": {
        "id": "wpqKc7INJZHV"
      },
      "outputs": [],
      "source": [
        "import nltk\n",
        "from nltk.corpus import stopwords\n",
        "from nltk.stem import WordNetLemmatizer\n",
        "import string\n",
        "\n",
        "\n",
        "nltk.download('punkt')\n",
        "nltk.download('stopwords')\n",
        "nltk.download('wordnet')\n",
        "nltk.download('punkt_tab')\n",
        "\n",
        "stop_words = set(stopwords.words(\"english\"))\n",
        "lemmatizer = WordNetLemmatizer()\n",
        "\n",
        "def preprocess(text):\n",
        "    # Lowercase\n",
        "    text = text.lower()\n",
        "    # Tokenize\n",
        "    tokens = nltk.word_tokenize(text)\n",
        "    # Remove stopwords & punctuation\n",
        "    tokens = [t for t in tokens if t not in stop_words and t not in string.punctuation]\n",
        "    # Lemmatize\n",
        "    tokens = [lemmatizer.lemmatize(t) for t in tokens]\n",
        "    return \" \".join(tokens)\n",
        "\n",
        "df[\"clean_text\"] = df[\"text\"].apply(preprocess)\n",
        "print(df.head())"
      ]
    },
    {
      "cell_type": "code",
      "execution_count": null,
      "metadata": {
        "id": "2psMdEIHJtZa"
      },
      "outputs": [],
      "source": [
        "from sklearn.model_selection import train_test_split\n",
        "from sklearn.feature_extraction.text import TfidfVectorizer\n",
        "\n",
        "X = df[\"clean_text\"]\n",
        "y = df[\"category\"]\n",
        "\n",
        "\n",
        "X_train, X_test, y_train, y_test = train_test_split(X, y, test_size=0.2, random_state=42)\n",
        "\n",
        "\n",
        "vectorizer = TfidfVectorizer(max_features=5000)\n",
        "X_train_tfidf = vectorizer.fit_transform(X_train)\n",
        "X_test_tfidf = vectorizer.transform(X_test)\n"
      ]
    },
    {
      "cell_type": "code",
      "execution_count": null,
      "metadata": {
        "colab": {
          "base_uri": "https://localhost:8080/"
        },
        "id": "WKtsAfciJ0Ks",
        "outputId": "ef0e8f39-8604-43f1-817a-548abc4861d7"
      },
      "outputs": [
        {
          "name": "stdout",
          "output_type": "stream",
          "text": [
            "Accuracy: 0.9809782608695652\n",
            "\n",
            "Classification Report:\n",
            "                precision    recall  f1-score   support\n",
            "\n",
            "     business       0.98      0.98      0.98        89\n",
            "entertainment       0.99      0.99      0.99        72\n",
            "     politics       0.97      0.97      0.97        58\n",
            "        sport       0.99      1.00      0.99        82\n",
            "         tech       0.98      0.97      0.98        67\n",
            "\n",
            "     accuracy                           0.98       368\n",
            "    macro avg       0.98      0.98      0.98       368\n",
            " weighted avg       0.98      0.98      0.98       368\n",
            "\n"
          ]
        }
      ],
      "source": [
        "from sklearn.naive_bayes import MultinomialNB\n",
        "from sklearn.metrics import accuracy_score, classification_report\n",
        "\n",
        "model = MultinomialNB()\n",
        "model.fit(X_train_tfidf, y_train)\n",
        "\n",
        "# Predict\n",
        "y_pred = model.predict(X_test_tfidf)\n",
        "\n",
        "# Evaluate\n",
        "print(\"Accuracy:\", accuracy_score(y_test, y_pred))\n",
        "print(\"\\nClassification Report:\\n\", classification_report(y_test, y_pred))\n"
      ]
    },
    {
      "cell_type": "code",
      "execution_count": null,
      "metadata": {
        "colab": {
          "base_uri": "https://localhost:8080/"
        },
        "id": "un8hdtkxJ3gt",
        "outputId": "5c5c4d0c-48b3-43dd-eb5b-73c426808404"
      },
      "outputs": [
        {
          "name": "stdout",
          "output_type": "stream",
          "text": [
            "business\n",
            "sport\n"
          ]
        }
      ],
      "source": [
        "def predict_news(text):\n",
        "    clean = preprocess(text)\n",
        "    vector = vectorizer.transform([clean])\n",
        "    prediction = model.predict(vector)\n",
        "    return prediction[0]\n",
        "\n",
        "print(predict_news(\"The government announced new economic policies.\"))\n",
        "print(predict_news(\"Manchester United won their latest football match.\"))\n"
      ]
    },
    {
      "cell_type": "code",
      "execution_count": null,
      "metadata": {
        "colab": {
          "background_save": true,
          "base_uri": "https://localhost:8080/"
        },
        "id": "xvJpgBf8J7wn",
        "outputId": "51039013-9032-4de6-89f7-15c916db0693"
      },
      "outputs": [
        {
          "name": "stdout",
          "output_type": "stream",
          "text": [
            "Predicted Category: sport\n",
            "Predicted Category: politics\n",
            "Predicted Category: sport\n"
          ]
        }
      ],
      "source": [
        "\n",
        "while True:\n",
        "    text = input(\"Enter a news text (or type 'exit' to quit): \")\n",
        "    if text.lower() == \"exit\":\n",
        "\n",
        "        break\n",
        "    print(\"Predicted Category:\", predict_news(text))\n"
      ]
    }
  ],
  "metadata": {
    "colab": {
      "provenance": [],
      "authorship_tag": "ABX9TyObRMqefYM1gP6S/86yMG4A",
      "include_colab_link": true
    },
    "kernelspec": {
      "display_name": "Python 3",
      "name": "python3"
    },
    "language_info": {
      "name": "python"
    }
  },
  "nbformat": 4,
  "nbformat_minor": 0
}